{
 "cells": [
  {
   "cell_type": "markdown",
   "id": "0ce57689-3985-4eb0-bb99-faf22c859ba5",
   "metadata": {},
   "source": [
    "# Import Data/Pkg, Process Data"
   ]
  },
  {
   "cell_type": "code",
   "execution_count": 1,
   "id": "06ba8a3c-9c0a-4c45-aa06-1ddb65855766",
   "metadata": {},
   "outputs": [],
   "source": [
    "using Pkg, CategoricalArrays, CSV, DataFrames, Statistics\n",
    "using StatsBase"
   ]
  },
  {
   "cell_type": "code",
   "execution_count": 2,
   "id": "87c59a2e-c91f-4bba-9036-2c2be9dee484",
   "metadata": {},
   "outputs": [],
   "source": [
    "data = CSV.read(\"train.csv\", DataFrame);"
   ]
  },
  {
   "cell_type": "code",
   "execution_count": 3,
   "id": "1cf124f8-e417-4c3d-81a4-151a9f3d3e02",
   "metadata": {},
   "outputs": [],
   "source": [
    "df = data;"
   ]
  },
  {
   "cell_type": "code",
   "execution_count": 4,
   "id": "ec508521-046e-4699-af53-ac4e41e0a37f",
   "metadata": {},
   "outputs": [],
   "source": [
    "df.Vehicle_Damage = map(x -> x == \"Yes\" ? 1 : 0, df.Vehicle_Damage);\n",
    "df.Vehicle_Age = map(x -> x == \"> 2 Years\" ? 2 : x == \"1-2 Year\" ? 1 : 0, df.Vehicle_Age);\n",
    "df[!, \"Gender\"] = categorical(df[!, \"Gender\"])\n",
    "df[!, \"Annual_Premium\"] = df[!, \"Annual_Premium\"].*0.012;"
   ]
  },
  {
   "cell_type": "code",
   "execution_count": 5,
   "id": "641b5e76-ba10-49d4-b4c7-30cd628f83c2",
   "metadata": {},
   "outputs": [
    {
     "data": {
      "text/plain": [
       "100:100:1000"
      ]
     },
     "execution_count": 5,
     "metadata": {},
     "output_type": "execute_result"
    }
   ],
   "source": [
    "t_options = 100:100:1000"
   ]
  },
  {
   "cell_type": "markdown",
   "id": "2e5cbc6e-4e95-4cc7-abbf-a8f983d04358",
   "metadata": {},
   "source": [
    "## Split Data"
   ]
  },
  {
   "cell_type": "code",
   "execution_count": 6,
   "id": "577bbb55-7208-4037-9a92-bcbe4235ed2a",
   "metadata": {},
   "outputs": [],
   "source": [
    "seed = 12345; \n",
    "X = df[:, Not([:Response, :Annual_Premium, :id, :Region_Code, :Policy_Sales_Channel])]\n",
    "y = df.Response\n",
    "t = df.Annual_Premium\n",
    "(train_X, train_t, train_y), (test_X, test_t, test_y) = IAI.split_data(\n",
    "    :policy_maximize, X, t, y, train_proportion=0.5, seed=seed);"
   ]
  },
  {
   "cell_type": "code",
   "execution_count": 7,
   "id": "0d227983-6c93-475b-a6aa-a19737a852d3",
   "metadata": {},
   "outputs": [],
   "source": [
    "train_t_discrete = [min(round(x, digits=-2), 1000) < 100 ? 100 : min(round(x, digits=-2), 1000) for x in train_t]\n",
    "test_t_discrete = [min(round(x, digits=-2), 1000) < 100 ? 100 : min(round(x, digits=-2), 1000) for x in test_t];"
   ]
  },
  {
   "cell_type": "markdown",
   "id": "7b749fe3-a958-452c-b2d5-f5408559a43e",
   "metadata": {},
   "source": [
    "## Prescriptive Tree"
   ]
  },
  {
   "cell_type": "code",
   "execution_count": 14,
   "id": "3d087a9e-646e-4651-b06d-5de14866c2d8",
   "metadata": {},
   "outputs": [],
   "source": [
    "prescriptive_grid = IAI.GridSearch(\n",
    "    IAI.OptimalTreePrescriptionMaximizer(\n",
    "      random_seed=12345,\n",
    "    ),\n",
    "    max_depth=1:6,\n",
    ")\n",
    "# multiple the t(price)revenue with binary var y(1,0) buy or not buy\n",
    "train_y_revenue = train_y .* train_t_discrete;"
   ]
  },
  {
   "cell_type": "code",
   "execution_count": null,
   "id": "a65a856b-d736-492d-8bb8-9a315feb8441",
   "metadata": {},
   "outputs": [],
   "source": [
    "IAI.fit!(prescriptive_grid, train_X, train_t_discrete, train_y_revenue)"
   ]
  },
  {
   "cell_type": "code",
   "execution_count": 11,
   "id": "d1dfc422-1550-4b3d-8dc8-b41d329dc40b",
   "metadata": {},
   "outputs": [
    {
     "data": {
      "text/plain": [
       "(Real[900.0, 900.0, 800.0, 600.0, 900.0, 900.0, 600.0, 800.0, 1000.0, 1000.0  …  1000.0, 800.0, 1000.0, 1000.0, 1000.0, 1000.0, 600.0, 1000.0, 800.0, 1000.0], [771.4285714285713, 900.0, 8.333333333333258, 0.4329004329003965, 450.0, 242.30769230769215, 0.4329004329003965, 1.512287334593566, 369.69696969696975, 361.70212765957444  …  369.69696969696975, 1.512287334593566, 369.69696969696975, 666.6666666666667, 111.1111111111112, 666.6666666666667, 0.4329004329003965, 369.69696969696975, 299.9999999999999, 111.1111111111112])"
      ]
     },
     "execution_count": 11,
     "metadata": {},
     "output_type": "execute_result"
    }
   ],
   "source": [
    "pred_treatments, pred_outcomes = IAI.predict(prescriptive_grid, test_X)"
   ]
  },
  {
   "cell_type": "code",
   "execution_count": 13,
   "id": "ea0bdbd8-069d-4c92-a7f6-593edfabcf79",
   "metadata": {},
   "outputs": [
    {
     "data": {
      "text/plain": [
       "\"./prescription.csv\""
      ]
     },
     "execution_count": 13,
     "metadata": {},
     "output_type": "execute_result"
    }
   ],
   "source": [
    "df_w_prescri = hcat(test_X, pred_treatments);\n",
    "CSV.write(\"./prescription.csv\", df_w_prescri)"
   ]
  },
  {
   "cell_type": "markdown",
   "id": "bf7a59b5-e34f-491e-9a42-eb7cd04f974e",
   "metadata": {},
   "source": [
    "### Prescriptive Tree Evaulation"
   ]
  },
  {
   "cell_type": "markdown",
   "id": "c273360e-1385-424b-94b0-5babe2fabe1b",
   "metadata": {},
   "source": [
    "## Real Data"
   ]
  },
  {
   "cell_type": "code",
   "execution_count": 22,
   "id": "52f385be-2bc7-4a8c-bb53-86bd059839ef",
   "metadata": {},
   "outputs": [
    {
     "name": "stdout",
     "output_type": "stream",
     "text": [
      "The real life data suggest the annual revenue would be 8.851845936e6\n",
      "If we do the cutoff on real life data, the annual revenue would be 9.0881e6"
     ]
    }
   ],
   "source": [
    "# Get revenue observed for test set in reality\n",
    "test_revenue = test_y .* test_t;\n",
    "print(\"The real life data suggest the annual revenue would be \", sum(test_revenue))\n",
    "print(\"\\n\")\n",
    "\n",
    "test_revenue_cut = test_y .* test_t_discrete;\n",
    "print(\"If we do the cutoff on real life data, the annual revenue would be \", sum(test_revenue_cut))"
   ]
  },
  {
   "cell_type": "markdown",
   "id": "6851c5af-cb29-4785-abc6-d731c4e9682b",
   "metadata": {},
   "source": [
    "## Our Prescription"
   ]
  },
  {
   "cell_type": "code",
   "execution_count": 11,
   "id": "690b744b-322d-4f4d-ac5c-9fac05aabcd9",
   "metadata": {},
   "outputs": [
    {
     "data": {
      "text/html": [
       "<div><div style = \"float: left;\"><span>190554×10 DataFrame</span></div><div style = \"float: right;\"><span style = \"font-style: italic;\">190529 rows omitted</span></div><div style = \"clear: both;\"></div></div><div class = \"data-frame\" style = \"overflow-x: scroll;\"><table class = \"data-frame\" style = \"margin-bottom: 6px;\"><thead><tr class = \"header\"><th class = \"rowNumber\" style = \"font-weight: bold; text-align: right;\">Row</th><th style = \"text-align: left;\">100</th><th style = \"text-align: left;\">200</th><th style = \"text-align: left;\">300</th><th style = \"text-align: left;\">400</th><th style = \"text-align: left;\">500</th><th style = \"text-align: left;\">600</th><th style = \"text-align: left;\">700</th><th style = \"text-align: left;\">800</th><th style = \"text-align: left;\">900</th><th style = \"text-align: left;\">1000</th></tr><tr class = \"subheader headerLastRow\"><th class = \"rowNumber\" style = \"font-weight: bold; text-align: right;\"></th><th title = \"Float64\" style = \"text-align: left;\">Float64</th><th title = \"Float64\" style = \"text-align: left;\">Float64</th><th title = \"Float64\" style = \"text-align: left;\">Float64</th><th title = \"Float64\" style = \"text-align: left;\">Float64</th><th title = \"Float64\" style = \"text-align: left;\">Float64</th><th title = \"Float64\" style = \"text-align: left;\">Float64</th><th title = \"Float64\" style = \"text-align: left;\">Float64</th><th title = \"Float64\" style = \"text-align: left;\">Float64</th><th title = \"Float64\" style = \"text-align: left;\">Float64</th><th title = \"Float64\" style = \"text-align: left;\">Float64</th></tr></thead><tbody><tr><td class = \"rowNumber\" style = \"font-weight: bold; text-align: right;\">1</td><td style = \"text-align: right;\">3.101</td><td style = \"text-align: right;\">8.842</td><td style = \"text-align: right;\">14.141</td><td style = \"text-align: right;\">10.759</td><td style = \"text-align: right;\">14.063</td><td style = \"text-align: right;\">20.654</td><td style = \"text-align: right;\">15.839</td><td style = \"text-align: right;\">25.963</td><td style = \"text-align: right;\">28.692</td><td style = \"text-align: right;\">29.657</td></tr><tr><td class = \"rowNumber\" style = \"font-weight: bold; text-align: right;\">2</td><td style = \"text-align: right;\">14.094</td><td style = \"text-align: right;\">22.194</td><td style = \"text-align: right;\">27.6</td><td style = \"text-align: right;\">54.552</td><td style = \"text-align: right;\">70.734</td><td style = \"text-align: right;\">69.247</td><td style = \"text-align: right;\">77.908</td><td style = \"text-align: right;\">49.112</td><td style = \"text-align: right;\">46.613</td><td style = \"text-align: right;\">90.961</td></tr><tr><td class = \"rowNumber\" style = \"font-weight: bold; text-align: right;\">3</td><td style = \"text-align: right;\">2.278</td><td style = \"text-align: right;\">4.522</td><td style = \"text-align: right;\">6.737</td><td style = \"text-align: right;\">9.259</td><td style = \"text-align: right;\">11.383</td><td style = \"text-align: right;\">13.723</td><td style = \"text-align: right;\">16.175</td><td style = \"text-align: right;\">19.322</td><td style = \"text-align: right;\">22.002</td><td style = \"text-align: right;\">23.923</td></tr><tr><td class = \"rowNumber\" style = \"font-weight: bold; text-align: right;\">4</td><td style = \"text-align: right;\">2.278</td><td style = \"text-align: right;\">4.522</td><td style = \"text-align: right;\">6.737</td><td style = \"text-align: right;\">9.259</td><td style = \"text-align: right;\">11.383</td><td style = \"text-align: right;\">13.723</td><td style = \"text-align: right;\">16.175</td><td style = \"text-align: right;\">19.322</td><td style = \"text-align: right;\">22.002</td><td style = \"text-align: right;\">23.923</td></tr><tr><td class = \"rowNumber\" style = \"font-weight: bold; text-align: right;\">5</td><td style = \"text-align: right;\">28.416</td><td style = \"text-align: right;\">47.233</td><td style = \"text-align: right;\">86.22</td><td style = \"text-align: right;\">126.352</td><td style = \"text-align: right;\">169.403</td><td style = \"text-align: right;\">195.783</td><td style = \"text-align: right;\">267.792</td><td style = \"text-align: right;\">207.891</td><td style = \"text-align: right;\">280.271</td><td style = \"text-align: right;\">424.877</td></tr><tr><td class = \"rowNumber\" style = \"font-weight: bold; text-align: right;\">6</td><td style = \"text-align: right;\">2.274</td><td style = \"text-align: right;\">4.586</td><td style = \"text-align: right;\">6.769</td><td style = \"text-align: right;\">9.159</td><td style = \"text-align: right;\">11.161</td><td style = \"text-align: right;\">13.658</td><td style = \"text-align: right;\">15.839</td><td style = \"text-align: right;\">19.812</td><td style = \"text-align: right;\">21.535</td><td style = \"text-align: right;\">23.377</td></tr><tr><td class = \"rowNumber\" style = \"font-weight: bold; text-align: right;\">7</td><td style = \"text-align: right;\">25.744</td><td style = \"text-align: right;\">21.061</td><td style = \"text-align: right;\">58.848</td><td style = \"text-align: right;\">62.675</td><td style = \"text-align: right;\">97.485</td><td style = \"text-align: right;\">192.127</td><td style = \"text-align: right;\">141.875</td><td style = \"text-align: right;\">92.315</td><td style = \"text-align: right;\">523.358</td><td style = \"text-align: right;\">81.112</td></tr><tr><td class = \"rowNumber\" style = \"font-weight: bold; text-align: right;\">8</td><td style = \"text-align: right;\">12.288</td><td style = \"text-align: right;\">13.36</td><td style = \"text-align: right;\">41.945</td><td style = \"text-align: right;\">60.443</td><td style = \"text-align: right;\">58.114</td><td style = \"text-align: right;\">76.321</td><td style = \"text-align: right;\">111.072</td><td style = \"text-align: right;\">138.247</td><td style = \"text-align: right;\">146.848</td><td style = \"text-align: right;\">126.628</td></tr><tr><td class = \"rowNumber\" style = \"font-weight: bold; text-align: right;\">9</td><td style = \"text-align: right;\">2.278</td><td style = \"text-align: right;\">4.522</td><td style = \"text-align: right;\">6.737</td><td style = \"text-align: right;\">9.259</td><td style = \"text-align: right;\">11.383</td><td style = \"text-align: right;\">13.723</td><td style = \"text-align: right;\">16.175</td><td style = \"text-align: right;\">19.322</td><td style = \"text-align: right;\">65.753</td><td style = \"text-align: right;\">23.923</td></tr><tr><td class = \"rowNumber\" style = \"font-weight: bold; text-align: right;\">10</td><td style = \"text-align: right;\">27.917</td><td style = \"text-align: right;\">37.25</td><td style = \"text-align: right;\">100.471</td><td style = \"text-align: right;\">128.733</td><td style = \"text-align: right;\">159.227</td><td style = \"text-align: right;\">195.783</td><td style = \"text-align: right;\">264.231</td><td style = \"text-align: right;\">504.633</td><td style = \"text-align: right;\">368.833</td><td style = \"text-align: right;\">309.24</td></tr><tr><td class = \"rowNumber\" style = \"font-weight: bold; text-align: right;\">11</td><td style = \"text-align: right;\">27.272</td><td style = \"text-align: right;\">37.25</td><td style = \"text-align: right;\">82.532</td><td style = \"text-align: right;\">117.592</td><td style = \"text-align: right;\">153.286</td><td style = \"text-align: right;\">177.366</td><td style = \"text-align: right;\">260.722</td><td style = \"text-align: right;\">415.051</td><td style = \"text-align: right;\">286.069</td><td style = \"text-align: right;\">242.314</td></tr><tr><td class = \"rowNumber\" style = \"font-weight: bold; text-align: right;\">12</td><td style = \"text-align: right;\">2.278</td><td style = \"text-align: right;\">4.522</td><td style = \"text-align: right;\">6.737</td><td style = \"text-align: right;\">9.259</td><td style = \"text-align: right;\">11.383</td><td style = \"text-align: right;\">13.723</td><td style = \"text-align: right;\">16.175</td><td style = \"text-align: right;\">19.322</td><td style = \"text-align: right;\">22.002</td><td style = \"text-align: right;\">23.923</td></tr><tr><td class = \"rowNumber\" style = \"font-weight: bold; text-align: right;\">13</td><td style = \"text-align: right;\">25.021</td><td style = \"text-align: right;\">132.439</td><td style = \"text-align: right;\">81.057</td><td style = \"text-align: right;\">120.387</td><td style = \"text-align: right;\">166.295</td><td style = \"text-align: right;\">184.618</td><td style = \"text-align: right;\">163.419</td><td style = \"text-align: right;\">227.976</td><td style = \"text-align: right;\">310.543</td><td style = \"text-align: right;\">490.315</td></tr><tr><td style = \"text-align: right;\">&vellip;</td><td style = \"text-align: right;\">&vellip;</td><td style = \"text-align: right;\">&vellip;</td><td style = \"text-align: right;\">&vellip;</td><td style = \"text-align: right;\">&vellip;</td><td style = \"text-align: right;\">&vellip;</td><td style = \"text-align: right;\">&vellip;</td><td style = \"text-align: right;\">&vellip;</td><td style = \"text-align: right;\">&vellip;</td><td style = \"text-align: right;\">&vellip;</td><td style = \"text-align: right;\">&vellip;</td></tr><tr><td class = \"rowNumber\" style = \"font-weight: bold; text-align: right;\">190543</td><td style = \"text-align: right;\">3.346</td><td style = \"text-align: right;\">23.707</td><td style = \"text-align: right;\">17.39</td><td style = \"text-align: right;\">18.075</td><td style = \"text-align: right;\">24.966</td><td style = \"text-align: right;\">22.238</td><td style = \"text-align: right;\">39.056</td><td style = \"text-align: right;\">25.618</td><td style = \"text-align: right;\">104.565</td><td style = \"text-align: right;\">37.455</td></tr><tr><td class = \"rowNumber\" style = \"font-weight: bold; text-align: right;\">190544</td><td style = \"text-align: right;\">11.302</td><td style = \"text-align: right;\">11.202</td><td style = \"text-align: right;\">46.852</td><td style = \"text-align: right;\">66.439</td><td style = \"text-align: right;\">63.369</td><td style = \"text-align: right;\">61.227</td><td style = \"text-align: right;\">103.036</td><td style = \"text-align: right;\">52.538</td><td style = \"text-align: right;\">87.699</td><td style = \"text-align: right;\">224.098</td></tr><tr><td class = \"rowNumber\" style = \"font-weight: bold; text-align: right;\">190545</td><td style = \"text-align: right;\">2.274</td><td style = \"text-align: right;\">4.586</td><td style = \"text-align: right;\">6.769</td><td style = \"text-align: right;\">9.159</td><td style = \"text-align: right;\">11.161</td><td style = \"text-align: right;\">13.658</td><td style = \"text-align: right;\">15.839</td><td style = \"text-align: right;\">19.812</td><td style = \"text-align: right;\">21.535</td><td style = \"text-align: right;\">23.377</td></tr><tr><td class = \"rowNumber\" style = \"font-weight: bold; text-align: right;\">190546</td><td style = \"text-align: right;\">2.278</td><td style = \"text-align: right;\">4.522</td><td style = \"text-align: right;\">6.737</td><td style = \"text-align: right;\">9.259</td><td style = \"text-align: right;\">11.383</td><td style = \"text-align: right;\">13.723</td><td style = \"text-align: right;\">16.175</td><td style = \"text-align: right;\">19.322</td><td style = \"text-align: right;\">22.002</td><td style = \"text-align: right;\">23.923</td></tr><tr><td class = \"rowNumber\" style = \"font-weight: bold; text-align: right;\">190547</td><td style = \"text-align: right;\">2.274</td><td style = \"text-align: right;\">4.586</td><td style = \"text-align: right;\">6.769</td><td style = \"text-align: right;\">9.159</td><td style = \"text-align: right;\">11.161</td><td style = \"text-align: right;\">13.658</td><td style = \"text-align: right;\">15.839</td><td style = \"text-align: right;\">19.812</td><td style = \"text-align: right;\">21.535</td><td style = \"text-align: right;\">23.377</td></tr><tr><td class = \"rowNumber\" style = \"font-weight: bold; text-align: right;\">190548</td><td style = \"text-align: right;\">24.331</td><td style = \"text-align: right;\">79.604</td><td style = \"text-align: right;\">94.247</td><td style = \"text-align: right;\">113.403</td><td style = \"text-align: right;\">166.295</td><td style = \"text-align: right;\">236.329</td><td style = \"text-align: right;\">171.686</td><td style = \"text-align: right;\">228.351</td><td style = \"text-align: right;\">185.356</td><td style = \"text-align: right;\">345.938</td></tr><tr><td class = \"rowNumber\" style = \"font-weight: bold; text-align: right;\">190549</td><td style = \"text-align: right;\">25.021</td><td style = \"text-align: right;\">65.113</td><td style = \"text-align: right;\">76.767</td><td style = \"text-align: right;\">110.857</td><td style = \"text-align: right;\">145.554</td><td style = \"text-align: right;\">142.553</td><td style = \"text-align: right;\">163.419</td><td style = \"text-align: right;\">188.382</td><td style = \"text-align: right;\">91.243</td><td style = \"text-align: right;\">241.236</td></tr><tr><td class = \"rowNumber\" style = \"font-weight: bold; text-align: right;\">190550</td><td style = \"text-align: right;\">28.416</td><td style = \"text-align: right;\">47.233</td><td style = \"text-align: right;\">76.287</td><td style = \"text-align: right;\">113.861</td><td style = \"text-align: right;\">163.264</td><td style = \"text-align: right;\">175.329</td><td style = \"text-align: right;\">223.48</td><td style = \"text-align: right;\">207.891</td><td style = \"text-align: right;\">280.271</td><td style = \"text-align: right;\">424.877</td></tr><tr><td class = \"rowNumber\" style = \"font-weight: bold; text-align: right;\">190551</td><td style = \"text-align: right;\">28.416</td><td style = \"text-align: right;\">52.421</td><td style = \"text-align: right;\">76.287</td><td style = \"text-align: right;\">107.418</td><td style = \"text-align: right;\">138.169</td><td style = \"text-align: right;\">169.321</td><td style = \"text-align: right;\">283.846</td><td style = \"text-align: right;\">330.501</td><td style = \"text-align: right;\">431.528</td><td style = \"text-align: right;\">267.488</td></tr><tr><td class = \"rowNumber\" style = \"font-weight: bold; text-align: right;\">190552</td><td style = \"text-align: right;\">2.274</td><td style = \"text-align: right;\">4.586</td><td style = \"text-align: right;\">6.769</td><td style = \"text-align: right;\">9.159</td><td style = \"text-align: right;\">11.161</td><td style = \"text-align: right;\">13.658</td><td style = \"text-align: right;\">15.839</td><td style = \"text-align: right;\">19.812</td><td style = \"text-align: right;\">21.535</td><td style = \"text-align: right;\">23.377</td></tr><tr><td class = \"rowNumber\" style = \"font-weight: bold; text-align: right;\">190553</td><td style = \"text-align: right;\">2.278</td><td style = \"text-align: right;\">4.522</td><td style = \"text-align: right;\">6.737</td><td style = \"text-align: right;\">9.259</td><td style = \"text-align: right;\">11.383</td><td style = \"text-align: right;\">13.723</td><td style = \"text-align: right;\">16.175</td><td style = \"text-align: right;\">19.322</td><td style = \"text-align: right;\">22.002</td><td style = \"text-align: right;\">23.923</td></tr><tr><td class = \"rowNumber\" style = \"font-weight: bold; text-align: right;\">190554</td><td style = \"text-align: right;\">2.278</td><td style = \"text-align: right;\">4.522</td><td style = \"text-align: right;\">6.737</td><td style = \"text-align: right;\">9.259</td><td style = \"text-align: right;\">11.383</td><td style = \"text-align: right;\">13.723</td><td style = \"text-align: right;\">16.175</td><td style = \"text-align: right;\">19.322</td><td style = \"text-align: right;\">22.002</td><td style = \"text-align: right;\">23.923</td></tr></tbody></table></div>"
      ],
      "text/latex": [
       "\\begin{tabular}{r|cccccccccc}\n",
       "\t& 100 & 200 & 300 & 400 & 500 & 600 & 700 & 800 & 900 & \\\\\n",
       "\t\\hline\n",
       "\t& Float64 & Float64 & Float64 & Float64 & Float64 & Float64 & Float64 & Float64 & Float64 & \\\\\n",
       "\t\\hline\n",
       "\t1 & 3.101 & 8.842 & 14.141 & 10.759 & 14.063 & 20.654 & 15.839 & 25.963 & 28.692 & $\\dots$ \\\\\n",
       "\t2 & 14.094 & 22.194 & 27.6 & 54.552 & 70.734 & 69.247 & 77.908 & 49.112 & 46.613 & $\\dots$ \\\\\n",
       "\t3 & 2.278 & 4.522 & 6.737 & 9.259 & 11.383 & 13.723 & 16.175 & 19.322 & 22.002 & $\\dots$ \\\\\n",
       "\t4 & 2.278 & 4.522 & 6.737 & 9.259 & 11.383 & 13.723 & 16.175 & 19.322 & 22.002 & $\\dots$ \\\\\n",
       "\t5 & 28.416 & 47.233 & 86.22 & 126.352 & 169.403 & 195.783 & 267.792 & 207.891 & 280.271 & $\\dots$ \\\\\n",
       "\t6 & 2.274 & 4.586 & 6.769 & 9.159 & 11.161 & 13.658 & 15.839 & 19.812 & 21.535 & $\\dots$ \\\\\n",
       "\t7 & 25.744 & 21.061 & 58.848 & 62.675 & 97.485 & 192.127 & 141.875 & 92.315 & 523.358 & $\\dots$ \\\\\n",
       "\t8 & 12.288 & 13.36 & 41.945 & 60.443 & 58.114 & 76.321 & 111.072 & 138.247 & 146.848 & $\\dots$ \\\\\n",
       "\t9 & 2.278 & 4.522 & 6.737 & 9.259 & 11.383 & 13.723 & 16.175 & 19.322 & 65.753 & $\\dots$ \\\\\n",
       "\t10 & 27.917 & 37.25 & 100.471 & 128.733 & 159.227 & 195.783 & 264.231 & 504.633 & 368.833 & $\\dots$ \\\\\n",
       "\t11 & 27.272 & 37.25 & 82.532 & 117.592 & 153.286 & 177.366 & 260.722 & 415.051 & 286.069 & $\\dots$ \\\\\n",
       "\t12 & 2.278 & 4.522 & 6.737 & 9.259 & 11.383 & 13.723 & 16.175 & 19.322 & 22.002 & $\\dots$ \\\\\n",
       "\t13 & 25.021 & 132.439 & 81.057 & 120.387 & 166.295 & 184.618 & 163.419 & 227.976 & 310.543 & $\\dots$ \\\\\n",
       "\t14 & 2.274 & 4.586 & 6.769 & 9.159 & 11.161 & 13.658 & 15.839 & 19.812 & 21.535 & $\\dots$ \\\\\n",
       "\t15 & 25.724 & 81.628 & 89.392 & 113.403 & 153.233 & 198.835 & 268.697 & 245.768 & 538.958 & $\\dots$ \\\\\n",
       "\t16 & 2.274 & 4.586 & 6.769 & 9.159 & 11.161 & 13.658 & 15.839 & 19.812 & 21.535 & $\\dots$ \\\\\n",
       "\t17 & 2.274 & 4.586 & 6.769 & 9.159 & 11.161 & 13.658 & 15.839 & 19.812 & 21.535 & $\\dots$ \\\\\n",
       "\t18 & 11.285 & 11.404 & 32.761 & 32.207 & 79.685 & 47.494 & 85.373 & 135.442 & 140.383 & $\\dots$ \\\\\n",
       "\t19 & 2.278 & 4.522 & 6.737 & 9.259 & 11.383 & 13.723 & 16.175 & 19.322 & 22.002 & $\\dots$ \\\\\n",
       "\t20 & 2.278 & 4.522 & 6.737 & 9.259 & 11.383 & 13.723 & 16.175 & 19.322 & 22.002 & $\\dots$ \\\\\n",
       "\t21 & 31.59 & 41.014 & 100.471 & 128.733 & 158.665 & 209.352 & 285.617 & 376.812 & 137.359 & $\\dots$ \\\\\n",
       "\t22 & 2.274 & 4.586 & 6.769 & 9.159 & 11.161 & 13.658 & 15.839 & 19.812 & 21.535 & $\\dots$ \\\\\n",
       "\t23 & 23.773 & 88.107 & 134.549 & 139.781 & 144.317 & 178.606 & 252.227 & 307.306 & 69.333 & $\\dots$ \\\\\n",
       "\t24 & 3.52 & 17.526 & 10.966 & 24.449 & 13.433 & 19.78 & 30.025 & 32.864 & 116.607 & $\\dots$ \\\\\n",
       "\t25 & 2.278 & 4.522 & 6.737 & 9.259 & 11.383 & 13.723 & 16.175 & 19.322 & 22.002 & $\\dots$ \\\\\n",
       "\t26 & 23.464 & 47.235 & 65.03 & 109.138 & 115.847 & 157.565 & 143.612 & 166.278 & 56.653 & $\\dots$ \\\\\n",
       "\t27 & 2.278 & 4.522 & 6.737 & 9.259 & 11.383 & 13.723 & 16.175 & 19.322 & 22.002 & $\\dots$ \\\\\n",
       "\t28 & 6.734 & 8.796 & 12.148 & 30.658 & 32.923 & 23.849 & 36.116 & 51.736 & 86.902 & $\\dots$ \\\\\n",
       "\t29 & 7.032 & 47.332 & 30.48 & 49.949 & 40.636 & 62.406 & 56.027 & 46.242 & 155.859 & $\\dots$ \\\\\n",
       "\t30 & 2.274 & 4.586 & 6.769 & 9.159 & 11.161 & 13.658 & 15.839 & 19.812 & 21.535 & $\\dots$ \\\\\n",
       "\t$\\dots$ & $\\dots$ & $\\dots$ & $\\dots$ & $\\dots$ & $\\dots$ & $\\dots$ & $\\dots$ & $\\dots$ & $\\dots$ &  \\\\\n",
       "\\end{tabular}\n"
      ],
      "text/plain": [
       "\u001b[1m190554×10 DataFrame\u001b[0m\n",
       "\u001b[1m    Row \u001b[0m│\u001b[1m 100     \u001b[0m\u001b[1m 200     \u001b[0m\u001b[1m 300     \u001b[0m\u001b[1m 400     \u001b[0m\u001b[1m 500     \u001b[0m\u001b[1m 600     \u001b[0m\u001b[1m 700     \u001b[0m\u001b[1m 800  \u001b[0m ⋯\n",
       "        │\u001b[90m Float64 \u001b[0m\u001b[90m Float64 \u001b[0m\u001b[90m Float64 \u001b[0m\u001b[90m Float64 \u001b[0m\u001b[90m Float64 \u001b[0m\u001b[90m Float64 \u001b[0m\u001b[90m Float64 \u001b[0m\u001b[90m Float\u001b[0m ⋯\n",
       "────────┼───────────────────────────────────────────────────────────────────────\n",
       "      1 │   3.101    8.842   14.141   10.759   14.063   20.654   15.839   25.9 ⋯\n",
       "      2 │  14.094   22.194   27.6     54.552   70.734   69.247   77.908   49.1\n",
       "      3 │   2.278    4.522    6.737    9.259   11.383   13.723   16.175   19.3\n",
       "      4 │   2.278    4.522    6.737    9.259   11.383   13.723   16.175   19.3\n",
       "      5 │  28.416   47.233   86.22   126.352  169.403  195.783  267.792  207.8 ⋯\n",
       "      6 │   2.274    4.586    6.769    9.159   11.161   13.658   15.839   19.8\n",
       "      7 │  25.744   21.061   58.848   62.675   97.485  192.127  141.875   92.3\n",
       "      8 │  12.288   13.36    41.945   60.443   58.114   76.321  111.072  138.2\n",
       "      9 │   2.278    4.522    6.737    9.259   11.383   13.723   16.175   19.3 ⋯\n",
       "     10 │  27.917   37.25   100.471  128.733  159.227  195.783  264.231  504.6\n",
       "     11 │  27.272   37.25    82.532  117.592  153.286  177.366  260.722  415.0\n",
       "   ⋮    │    ⋮        ⋮        ⋮        ⋮        ⋮        ⋮        ⋮        ⋮  ⋱\n",
       " 190545 │   2.274    4.586    6.769    9.159   11.161   13.658   15.839   19.8\n",
       " 190546 │   2.278    4.522    6.737    9.259   11.383   13.723   16.175   19.3 ⋯\n",
       " 190547 │   2.274    4.586    6.769    9.159   11.161   13.658   15.839   19.8\n",
       " 190548 │  24.331   79.604   94.247  113.403  166.295  236.329  171.686  228.3\n",
       " 190549 │  25.021   65.113   76.767  110.857  145.554  142.553  163.419  188.3\n",
       " 190550 │  28.416   47.233   76.287  113.861  163.264  175.329  223.48   207.8 ⋯\n",
       " 190551 │  28.416   52.421   76.287  107.418  138.169  169.321  283.846  330.5\n",
       " 190552 │   2.274    4.586    6.769    9.159   11.161   13.658   15.839   19.8\n",
       " 190553 │   2.278    4.522    6.737    9.259   11.383   13.723   16.175   19.3\n",
       " 190554 │   2.278    4.522    6.737    9.259   11.383   13.723   16.175   19.3 ⋯\n",
       "\u001b[36m                                               3 columns and 190533 rows omitted\u001b[0m"
      ]
     },
     "execution_count": 11,
     "metadata": {},
     "output_type": "execute_result"
    }
   ],
   "source": [
    "reward_lnr = IAI.NumericClassificationRewardEstimator(\n",
    "    outcome_estimator=IAI.XGBoostClassifier(num_round=10),\n",
    "    outcome_insample_num_folds=2,\n",
    "    reward_estimator=:direct_method,\n",
    "    estimation_kernel_bandwidth=1,\n",
    "    random_seed=seed,\n",
    ")\n",
    "\n",
    "function get_rewards(reward_lnr, X, t, y, t_options)\n",
    "  predictions, score = IAI.fit_predict!(reward_lnr, X, t, y, t_options,\n",
    "                                        outcome_score_criterion=:auc)\n",
    "  rewards = predictions[:reward]\n",
    "  for t in t_options\n",
    "    rewards[!, Symbol(t)] = round.(rewards[!, Symbol(t)] .* t, digits=3)\n",
    "  end\n",
    "  rewards, score\n",
    "end\n",
    "train_rewards, train_reward_score = get_rewards(reward_lnr, train_X, train_t_discrete,\n",
    "                                                train_y, t_options)\n",
    "train_rewards"
   ]
  },
  {
   "cell_type": "code",
   "execution_count": 12,
   "id": "0474203d-4bef-47b1-93f9-77396b8ea088",
   "metadata": {},
   "outputs": [
    {
     "data": {
      "text/plain": [
       "Dict{String, Float64} with 10 entries:\n",
       "  \"300\"  => 0.881468\n",
       "  \"400\"  => 0.852542\n",
       "  \"1000\" => 0.771416\n",
       "  \"600\"  => 0.813256\n",
       "  \"800\"  => 0.814287\n",
       "  \"700\"  => 0.804718\n",
       "  \"100\"  => 0.78973\n",
       "  \"200\"  => 0.898189\n",
       "  \"500\"  => 0.831272\n",
       "  \"900\"  => 0.728133"
      ]
     },
     "execution_count": 12,
     "metadata": {},
     "output_type": "execute_result"
    }
   ],
   "source": [
    "train_reward_score[:outcome]"
   ]
  },
  {
   "cell_type": "code",
   "execution_count": 13,
   "id": "ac09a4b5-aebd-4545-b4db-c2030f8b012a",
   "metadata": {},
   "outputs": [
    {
     "data": {
      "text/html": [
       "<div><div style = \"float: left;\"><span>190555×10 DataFrame</span></div><div style = \"float: right;\"><span style = \"font-style: italic;\">190530 rows omitted</span></div><div style = \"clear: both;\"></div></div><div class = \"data-frame\" style = \"overflow-x: scroll;\"><table class = \"data-frame\" style = \"margin-bottom: 6px;\"><thead><tr class = \"header\"><th class = \"rowNumber\" style = \"font-weight: bold; text-align: right;\">Row</th><th style = \"text-align: left;\">100</th><th style = \"text-align: left;\">200</th><th style = \"text-align: left;\">300</th><th style = \"text-align: left;\">400</th><th style = \"text-align: left;\">500</th><th style = \"text-align: left;\">600</th><th style = \"text-align: left;\">700</th><th style = \"text-align: left;\">800</th><th style = \"text-align: left;\">900</th><th style = \"text-align: left;\">1000</th></tr><tr class = \"subheader headerLastRow\"><th class = \"rowNumber\" style = \"font-weight: bold; text-align: right;\"></th><th title = \"Float64\" style = \"text-align: left;\">Float64</th><th title = \"Float64\" style = \"text-align: left;\">Float64</th><th title = \"Float64\" style = \"text-align: left;\">Float64</th><th title = \"Float64\" style = \"text-align: left;\">Float64</th><th title = \"Float64\" style = \"text-align: left;\">Float64</th><th title = \"Float64\" style = \"text-align: left;\">Float64</th><th title = \"Float64\" style = \"text-align: left;\">Float64</th><th title = \"Float64\" style = \"text-align: left;\">Float64</th><th title = \"Float64\" style = \"text-align: left;\">Float64</th><th title = \"Float64\" style = \"text-align: left;\">Float64</th></tr></thead><tbody><tr><td class = \"rowNumber\" style = \"font-weight: bold; text-align: right;\">1</td><td style = \"text-align: right;\">26.087</td><td style = \"text-align: right;\">51.986</td><td style = \"text-align: right;\">95.504</td><td style = \"text-align: right;\">142.665</td><td style = \"text-align: right;\">160.878</td><td style = \"text-align: right;\">245.609</td><td style = \"text-align: right;\">268.517</td><td style = \"text-align: right;\">387.959</td><td style = \"text-align: right;\">149.301</td><td style = \"text-align: right;\">400.693</td></tr><tr><td class = \"rowNumber\" style = \"font-weight: bold; text-align: right;\">2</td><td style = \"text-align: right;\">27.092</td><td style = \"text-align: right;\">63.244</td><td style = \"text-align: right;\">97.994</td><td style = \"text-align: right;\">141.605</td><td style = \"text-align: right;\">168.236</td><td style = \"text-align: right;\">261.982</td><td style = \"text-align: right;\">281.876</td><td style = \"text-align: right;\">433.982</td><td style = \"text-align: right;\">504.174</td><td style = \"text-align: right;\">451.658</td></tr><tr><td class = \"rowNumber\" style = \"font-weight: bold; text-align: right;\">3</td><td style = \"text-align: right;\">2.308</td><td style = \"text-align: right;\">4.651</td><td style = \"text-align: right;\">6.751</td><td style = \"text-align: right;\">9.095</td><td style = \"text-align: right;\">11.448</td><td style = \"text-align: right;\">13.49</td><td style = \"text-align: right;\">15.929</td><td style = \"text-align: right;\">18.607</td><td style = \"text-align: right;\">21.866</td><td style = \"text-align: right;\">23.759</td></tr><tr><td class = \"rowNumber\" style = \"font-weight: bold; text-align: right;\">4</td><td style = \"text-align: right;\">2.308</td><td style = \"text-align: right;\">4.651</td><td style = \"text-align: right;\">6.751</td><td style = \"text-align: right;\">9.095</td><td style = \"text-align: right;\">11.448</td><td style = \"text-align: right;\">13.49</td><td style = \"text-align: right;\">15.929</td><td style = \"text-align: right;\">18.607</td><td style = \"text-align: right;\">21.866</td><td style = \"text-align: right;\">23.759</td></tr><tr><td class = \"rowNumber\" style = \"font-weight: bold; text-align: right;\">5</td><td style = \"text-align: right;\">11.227</td><td style = \"text-align: right;\">32.144</td><td style = \"text-align: right;\">40.833</td><td style = \"text-align: right;\">52.682</td><td style = \"text-align: right;\">71.985</td><td style = \"text-align: right;\">103.195</td><td style = \"text-align: right;\">94.231</td><td style = \"text-align: right;\">233.867</td><td style = \"text-align: right;\">50.961</td><td style = \"text-align: right;\">104.734</td></tr><tr><td class = \"rowNumber\" style = \"font-weight: bold; text-align: right;\">6</td><td style = \"text-align: right;\">21.522</td><td style = \"text-align: right;\">57.827</td><td style = \"text-align: right;\">81.104</td><td style = \"text-align: right;\">84.874</td><td style = \"text-align: right;\">119.565</td><td style = \"text-align: right;\">144.296</td><td style = \"text-align: right;\">174.057</td><td style = \"text-align: right;\">168.949</td><td style = \"text-align: right;\">90.098</td><td style = \"text-align: right;\">165.119</td></tr><tr><td class = \"rowNumber\" style = \"font-weight: bold; text-align: right;\">7</td><td style = \"text-align: right;\">2.298</td><td style = \"text-align: right;\">4.531</td><td style = \"text-align: right;\">6.817</td><td style = \"text-align: right;\">9.046</td><td style = \"text-align: right;\">11.291</td><td style = \"text-align: right;\">13.788</td><td style = \"text-align: right;\">16.46</td><td style = \"text-align: right;\">18.82</td><td style = \"text-align: right;\">23.496</td><td style = \"text-align: right;\">24.011</td></tr><tr><td class = \"rowNumber\" style = \"font-weight: bold; text-align: right;\">8</td><td style = \"text-align: right;\">2.308</td><td style = \"text-align: right;\">4.651</td><td style = \"text-align: right;\">6.751</td><td style = \"text-align: right;\">9.095</td><td style = \"text-align: right;\">11.448</td><td style = \"text-align: right;\">13.49</td><td style = \"text-align: right;\">15.929</td><td style = \"text-align: right;\">18.607</td><td style = \"text-align: right;\">21.866</td><td style = \"text-align: right;\">23.759</td></tr><tr><td class = \"rowNumber\" style = \"font-weight: bold; text-align: right;\">9</td><td style = \"text-align: right;\">29.865</td><td style = \"text-align: right;\">84.643</td><td style = \"text-align: right;\">99.11</td><td style = \"text-align: right;\">139.354</td><td style = \"text-align: right;\">178.188</td><td style = \"text-align: right;\">191.524</td><td style = \"text-align: right;\">225.038</td><td style = \"text-align: right;\">307.405</td><td style = \"text-align: right;\">263.512</td><td style = \"text-align: right;\">281.059</td></tr><tr><td class = \"rowNumber\" style = \"font-weight: bold; text-align: right;\">10</td><td style = \"text-align: right;\">17.676</td><td style = \"text-align: right;\">38.194</td><td style = \"text-align: right;\">48.785</td><td style = \"text-align: right;\">81.298</td><td style = \"text-align: right;\">119.565</td><td style = \"text-align: right;\">143.919</td><td style = \"text-align: right;\">229.562</td><td style = \"text-align: right;\">168.949</td><td style = \"text-align: right;\">209.13</td><td style = \"text-align: right;\">143.984</td></tr><tr><td class = \"rowNumber\" style = \"font-weight: bold; text-align: right;\">11</td><td style = \"text-align: right;\">13.389</td><td style = \"text-align: right;\">63.94</td><td style = \"text-align: right;\">52.266</td><td style = \"text-align: right;\">78.726</td><td style = \"text-align: right;\">120.495</td><td style = \"text-align: right;\">104.199</td><td style = \"text-align: right;\">82.979</td><td style = \"text-align: right;\">223.86</td><td style = \"text-align: right;\">124.993</td><td style = \"text-align: right;\">95.204</td></tr><tr><td class = \"rowNumber\" style = \"font-weight: bold; text-align: right;\">12</td><td style = \"text-align: right;\">2.308</td><td style = \"text-align: right;\">4.651</td><td style = \"text-align: right;\">6.751</td><td style = \"text-align: right;\">9.095</td><td style = \"text-align: right;\">11.448</td><td style = \"text-align: right;\">13.49</td><td style = \"text-align: right;\">15.929</td><td style = \"text-align: right;\">18.607</td><td style = \"text-align: right;\">21.866</td><td style = \"text-align: right;\">23.759</td></tr><tr><td class = \"rowNumber\" style = \"font-weight: bold; text-align: right;\">13</td><td style = \"text-align: right;\">24.28</td><td style = \"text-align: right;\">62.489</td><td style = \"text-align: right;\">76.521</td><td style = \"text-align: right;\">120.32</td><td style = \"text-align: right;\">109.093</td><td style = \"text-align: right;\">164.64</td><td style = \"text-align: right;\">167.621</td><td style = \"text-align: right;\">144.283</td><td style = \"text-align: right;\">200.342</td><td style = \"text-align: right;\">274.571</td></tr><tr><td style = \"text-align: right;\">&vellip;</td><td style = \"text-align: right;\">&vellip;</td><td style = \"text-align: right;\">&vellip;</td><td style = \"text-align: right;\">&vellip;</td><td style = \"text-align: right;\">&vellip;</td><td style = \"text-align: right;\">&vellip;</td><td style = \"text-align: right;\">&vellip;</td><td style = \"text-align: right;\">&vellip;</td><td style = \"text-align: right;\">&vellip;</td><td style = \"text-align: right;\">&vellip;</td><td style = \"text-align: right;\">&vellip;</td></tr><tr><td class = \"rowNumber\" style = \"font-weight: bold; text-align: right;\">190544</td><td style = \"text-align: right;\">2.308</td><td style = \"text-align: right;\">4.651</td><td style = \"text-align: right;\">6.751</td><td style = \"text-align: right;\">9.095</td><td style = \"text-align: right;\">11.448</td><td style = \"text-align: right;\">13.49</td><td style = \"text-align: right;\">15.929</td><td style = \"text-align: right;\">18.607</td><td style = \"text-align: right;\">21.866</td><td style = \"text-align: right;\">23.759</td></tr><tr><td class = \"rowNumber\" style = \"font-weight: bold; text-align: right;\">190545</td><td style = \"text-align: right;\">28.34</td><td style = \"text-align: right;\">93.321</td><td style = \"text-align: right;\">105.058</td><td style = \"text-align: right;\">126.355</td><td style = \"text-align: right;\">166.787</td><td style = \"text-align: right;\">219.692</td><td style = \"text-align: right;\">225.038</td><td style = \"text-align: right;\">285.496</td><td style = \"text-align: right;\">99.45</td><td style = \"text-align: right;\">298.771</td></tr><tr><td class = \"rowNumber\" style = \"font-weight: bold; text-align: right;\">190546</td><td style = \"text-align: right;\">33.118</td><td style = \"text-align: right;\">58.543</td><td style = \"text-align: right;\">108.625</td><td style = \"text-align: right;\">149.89</td><td style = \"text-align: right;\">182.222</td><td style = \"text-align: right;\">238.12</td><td style = \"text-align: right;\">225.299</td><td style = \"text-align: right;\">143.129</td><td style = \"text-align: right;\">187.135</td><td style = \"text-align: right;\">311.239</td></tr><tr><td class = \"rowNumber\" style = \"font-weight: bold; text-align: right;\">190547</td><td style = \"text-align: right;\">2.308</td><td style = \"text-align: right;\">4.651</td><td style = \"text-align: right;\">6.751</td><td style = \"text-align: right;\">9.095</td><td style = \"text-align: right;\">11.448</td><td style = \"text-align: right;\">13.49</td><td style = \"text-align: right;\">15.929</td><td style = \"text-align: right;\">18.607</td><td style = \"text-align: right;\">21.866</td><td style = \"text-align: right;\">23.759</td></tr><tr><td class = \"rowNumber\" style = \"font-weight: bold; text-align: right;\">190548</td><td style = \"text-align: right;\">25.861</td><td style = \"text-align: right;\">113.074</td><td style = \"text-align: right;\">104.086</td><td style = \"text-align: right;\">140.395</td><td style = \"text-align: right;\">182.222</td><td style = \"text-align: right;\">201.724</td><td style = \"text-align: right;\">262.817</td><td style = \"text-align: right;\">207.382</td><td style = \"text-align: right;\">278.148</td><td style = \"text-align: right;\">394.481</td></tr><tr><td class = \"rowNumber\" style = \"font-weight: bold; text-align: right;\">190549</td><td style = \"text-align: right;\">13.149</td><td style = \"text-align: right;\">13.373</td><td style = \"text-align: right;\">54.106</td><td style = \"text-align: right;\">68.411</td><td style = \"text-align: right;\">102.759</td><td style = \"text-align: right;\">149.278</td><td style = \"text-align: right;\">123.329</td><td style = \"text-align: right;\">143.306</td><td style = \"text-align: right;\">306.559</td><td style = \"text-align: right;\">334.886</td></tr><tr><td class = \"rowNumber\" style = \"font-weight: bold; text-align: right;\">190550</td><td style = \"text-align: right;\">26.935</td><td style = \"text-align: right;\">19.173</td><td style = \"text-align: right;\">92.274</td><td style = \"text-align: right;\">108.632</td><td style = \"text-align: right;\">199.646</td><td style = \"text-align: right;\">209.872</td><td style = \"text-align: right;\">211.189</td><td style = \"text-align: right;\">151.267</td><td style = \"text-align: right;\">89.585</td><td style = \"text-align: right;\">235.389</td></tr><tr><td class = \"rowNumber\" style = \"font-weight: bold; text-align: right;\">190551</td><td style = \"text-align: right;\">11.608</td><td style = \"text-align: right;\">57.399</td><td style = \"text-align: right;\">39.153</td><td style = \"text-align: right;\">82.338</td><td style = \"text-align: right;\">101.486</td><td style = \"text-align: right;\">86.599</td><td style = \"text-align: right;\">114.87</td><td style = \"text-align: right;\">246.855</td><td style = \"text-align: right;\">151.014</td><td style = \"text-align: right;\">55.296</td></tr><tr><td class = \"rowNumber\" style = \"font-weight: bold; text-align: right;\">190552</td><td style = \"text-align: right;\">2.598</td><td style = \"text-align: right;\">5.525</td><td style = \"text-align: right;\">7.209</td><td style = \"text-align: right;\">10.316</td><td style = \"text-align: right;\">14.507</td><td style = \"text-align: right;\">23.338</td><td style = \"text-align: right;\">19.529</td><td style = \"text-align: right;\">27.791</td><td style = \"text-align: right;\">132.44</td><td style = \"text-align: right;\">26.71</td></tr><tr><td class = \"rowNumber\" style = \"font-weight: bold; text-align: right;\">190553</td><td style = \"text-align: right;\">28.122</td><td style = \"text-align: right;\">61.921</td><td style = \"text-align: right;\">92.045</td><td style = \"text-align: right;\">128.803</td><td style = \"text-align: right;\">160.878</td><td style = \"text-align: right;\">217.646</td><td style = \"text-align: right;\">210.67</td><td style = \"text-align: right;\">252.699</td><td style = \"text-align: right;\">265.901</td><td style = \"text-align: right;\">306.661</td></tr><tr><td class = \"rowNumber\" style = \"font-weight: bold; text-align: right;\">190554</td><td style = \"text-align: right;\">16.712</td><td style = \"text-align: right;\">15.117</td><td style = \"text-align: right;\">52.84</td><td style = \"text-align: right;\">63.38</td><td style = \"text-align: right;\">97.89</td><td style = \"text-align: right;\">153.636</td><td style = \"text-align: right;\">178.104</td><td style = \"text-align: right;\">188.811</td><td style = \"text-align: right;\">164.793</td><td style = \"text-align: right;\">800.979</td></tr><tr><td class = \"rowNumber\" style = \"font-weight: bold; text-align: right;\">190555</td><td style = \"text-align: right;\">5.663</td><td style = \"text-align: right;\">12.71</td><td style = \"text-align: right;\">18.865</td><td style = \"text-align: right;\">22.646</td><td style = \"text-align: right;\">25.18</td><td style = \"text-align: right;\">33.432</td><td style = \"text-align: right;\">15.929</td><td style = \"text-align: right;\">18.607</td><td style = \"text-align: right;\">27.688</td><td style = \"text-align: right;\">25.506</td></tr></tbody></table></div>"
      ],
      "text/latex": [
       "\\begin{tabular}{r|cccccccccc}\n",
       "\t& 100 & 200 & 300 & 400 & 500 & 600 & 700 & 800 & 900 & \\\\\n",
       "\t\\hline\n",
       "\t& Float64 & Float64 & Float64 & Float64 & Float64 & Float64 & Float64 & Float64 & Float64 & \\\\\n",
       "\t\\hline\n",
       "\t1 & 26.087 & 51.986 & 95.504 & 142.665 & 160.878 & 245.609 & 268.517 & 387.959 & 149.301 & $\\dots$ \\\\\n",
       "\t2 & 27.092 & 63.244 & 97.994 & 141.605 & 168.236 & 261.982 & 281.876 & 433.982 & 504.174 & $\\dots$ \\\\\n",
       "\t3 & 2.308 & 4.651 & 6.751 & 9.095 & 11.448 & 13.49 & 15.929 & 18.607 & 21.866 & $\\dots$ \\\\\n",
       "\t4 & 2.308 & 4.651 & 6.751 & 9.095 & 11.448 & 13.49 & 15.929 & 18.607 & 21.866 & $\\dots$ \\\\\n",
       "\t5 & 11.227 & 32.144 & 40.833 & 52.682 & 71.985 & 103.195 & 94.231 & 233.867 & 50.961 & $\\dots$ \\\\\n",
       "\t6 & 21.522 & 57.827 & 81.104 & 84.874 & 119.565 & 144.296 & 174.057 & 168.949 & 90.098 & $\\dots$ \\\\\n",
       "\t7 & 2.298 & 4.531 & 6.817 & 9.046 & 11.291 & 13.788 & 16.46 & 18.82 & 23.496 & $\\dots$ \\\\\n",
       "\t8 & 2.308 & 4.651 & 6.751 & 9.095 & 11.448 & 13.49 & 15.929 & 18.607 & 21.866 & $\\dots$ \\\\\n",
       "\t9 & 29.865 & 84.643 & 99.11 & 139.354 & 178.188 & 191.524 & 225.038 & 307.405 & 263.512 & $\\dots$ \\\\\n",
       "\t10 & 17.676 & 38.194 & 48.785 & 81.298 & 119.565 & 143.919 & 229.562 & 168.949 & 209.13 & $\\dots$ \\\\\n",
       "\t11 & 13.389 & 63.94 & 52.266 & 78.726 & 120.495 & 104.199 & 82.979 & 223.86 & 124.993 & $\\dots$ \\\\\n",
       "\t12 & 2.308 & 4.651 & 6.751 & 9.095 & 11.448 & 13.49 & 15.929 & 18.607 & 21.866 & $\\dots$ \\\\\n",
       "\t13 & 24.28 & 62.489 & 76.521 & 120.32 & 109.093 & 164.64 & 167.621 & 144.283 & 200.342 & $\\dots$ \\\\\n",
       "\t14 & 4.413 & 5.429 & 8.425 & 17.829 & 25.96 & 15.078 & 23.366 & 33.832 & 23.736 & $\\dots$ \\\\\n",
       "\t15 & 28.395 & 70.377 & 97.651 & 126.449 & 167.679 & 210.289 & 225.038 & 226.521 & 466.879 & $\\dots$ \\\\\n",
       "\t16 & 10.815 & 18.514 & 35.577 & 59.112 & 73.078 & 89.184 & 26.978 & 101.838 & 42.106 & $\\dots$ \\\\\n",
       "\t17 & 2.298 & 4.531 & 6.817 & 9.046 & 11.291 & 13.788 & 16.46 & 18.82 & 23.496 & $\\dots$ \\\\\n",
       "\t18 & 2.298 & 4.531 & 6.817 & 9.046 & 11.291 & 13.788 & 16.46 & 18.82 & 23.496 & $\\dots$ \\\\\n",
       "\t19 & 3.964 & 32.053 & 25.21 & 19.863 & 18.481 & 22.401 & 15.929 & 18.607 & 47.508 & $\\dots$ \\\\\n",
       "\t20 & 2.308 & 4.651 & 6.751 & 9.095 & 11.448 & 13.49 & 15.929 & 18.607 & 21.866 & $\\dots$ \\\\\n",
       "\t21 & 2.298 & 4.531 & 6.817 & 9.046 & 11.291 & 13.788 & 16.46 & 18.82 & 52.511 & $\\dots$ \\\\\n",
       "\t22 & 4.57 & 10.57 & 13.494 & 19.977 & 13.431 & 15.404 & 22.519 & 72.2 & 30.349 & $\\dots$ \\\\\n",
       "\t23 & 3.099 & 12.878 & 21.304 & 14.554 & 17.782 & 42.677 & 15.929 & 18.607 & 37.944 & $\\dots$ \\\\\n",
       "\t24 & 2.308 & 4.651 & 6.751 & 9.095 & 11.448 & 13.49 & 15.929 & 18.607 & 21.866 & $\\dots$ \\\\\n",
       "\t25 & 29.148 & 63.373 & 99.11 & 126.355 & 170.318 & 191.524 & 225.038 & 307.405 & 109.226 & $\\dots$ \\\\\n",
       "\t26 & 22.366 & 68.055 & 80.935 & 136.822 & 124.47 & 173.084 & 222.817 & 121.805 & 553.053 & $\\dots$ \\\\\n",
       "\t27 & 22.127 & 13.253 & 85.818 & 53.811 & 98.658 & 147.711 & 185.219 & 107.233 & 238.852 & $\\dots$ \\\\\n",
       "\t28 & 25.165 & 83.708 & 104.495 & 126.548 & 173.032 & 173.658 & 225.038 & 246.784 & 140.216 & $\\dots$ \\\\\n",
       "\t29 & 8.402 & 16.787 & 14.47 & 18.357 & 16.526 & 60.752 & 101.857 & 75.612 & 52.222 & $\\dots$ \\\\\n",
       "\t30 & 32.253 & 59.29 & 111.367 & 137.257 & 168.236 & 192.577 & 162.128 & 178.162 & 528.883 & $\\dots$ \\\\\n",
       "\t$\\dots$ & $\\dots$ & $\\dots$ & $\\dots$ & $\\dots$ & $\\dots$ & $\\dots$ & $\\dots$ & $\\dots$ & $\\dots$ &  \\\\\n",
       "\\end{tabular}\n"
      ],
      "text/plain": [
       "\u001b[1m190555×10 DataFrame\u001b[0m\n",
       "\u001b[1m    Row \u001b[0m│\u001b[1m 100     \u001b[0m\u001b[1m 200     \u001b[0m\u001b[1m 300     \u001b[0m\u001b[1m 400     \u001b[0m\u001b[1m 500     \u001b[0m\u001b[1m 600     \u001b[0m\u001b[1m 700     \u001b[0m\u001b[1m 800  \u001b[0m ⋯\n",
       "        │\u001b[90m Float64 \u001b[0m\u001b[90m Float64 \u001b[0m\u001b[90m Float64 \u001b[0m\u001b[90m Float64 \u001b[0m\u001b[90m Float64 \u001b[0m\u001b[90m Float64 \u001b[0m\u001b[90m Float64 \u001b[0m\u001b[90m Float\u001b[0m ⋯\n",
       "────────┼───────────────────────────────────────────────────────────────────────\n",
       "      1 │  26.087   51.986   95.504  142.665  160.878  245.609  268.517  387.9 ⋯\n",
       "      2 │  27.092   63.244   97.994  141.605  168.236  261.982  281.876  433.9\n",
       "      3 │   2.308    4.651    6.751    9.095   11.448   13.49    15.929   18.6\n",
       "      4 │   2.308    4.651    6.751    9.095   11.448   13.49    15.929   18.6\n",
       "      5 │  11.227   32.144   40.833   52.682   71.985  103.195   94.231  233.8 ⋯\n",
       "      6 │  21.522   57.827   81.104   84.874  119.565  144.296  174.057  168.9\n",
       "      7 │   2.298    4.531    6.817    9.046   11.291   13.788   16.46    18.8\n",
       "      8 │   2.308    4.651    6.751    9.095   11.448   13.49    15.929   18.6\n",
       "      9 │  29.865   84.643   99.11   139.354  178.188  191.524  225.038  307.4 ⋯\n",
       "     10 │  17.676   38.194   48.785   81.298  119.565  143.919  229.562  168.9\n",
       "     11 │  13.389   63.94    52.266   78.726  120.495  104.199   82.979  223.8\n",
       "   ⋮    │    ⋮        ⋮        ⋮        ⋮        ⋮        ⋮        ⋮        ⋮  ⋱\n",
       " 190546 │  33.118   58.543  108.625  149.89   182.222  238.12   225.299  143.1\n",
       " 190547 │   2.308    4.651    6.751    9.095   11.448   13.49    15.929   18.6 ⋯\n",
       " 190548 │  25.861  113.074  104.086  140.395  182.222  201.724  262.817  207.3\n",
       " 190549 │  13.149   13.373   54.106   68.411  102.759  149.278  123.329  143.3\n",
       " 190550 │  26.935   19.173   92.274  108.632  199.646  209.872  211.189  151.2\n",
       " 190551 │  11.608   57.399   39.153   82.338  101.486   86.599  114.87   246.8 ⋯\n",
       " 190552 │   2.598    5.525    7.209   10.316   14.507   23.338   19.529   27.7\n",
       " 190553 │  28.122   61.921   92.045  128.803  160.878  217.646  210.67   252.6\n",
       " 190554 │  16.712   15.117   52.84    63.38    97.89   153.636  178.104  188.8\n",
       " 190555 │   5.663   12.71    18.865   22.646   25.18    33.432   15.929   18.6 ⋯\n",
       "\u001b[36m                                               3 columns and 190534 rows omitted\u001b[0m"
      ]
     },
     "execution_count": 13,
     "metadata": {},
     "output_type": "execute_result"
    }
   ],
   "source": [
    "test_rewards, test_reward_score = get_rewards(reward_lnr, test_X, test_t_discrete,\n",
    "                                              test_y, t_options)\n",
    "test_rewards"
   ]
  },
  {
   "cell_type": "code",
   "execution_count": 14,
   "id": "002afd29-8001-4cdc-ac3e-99b127bab35e",
   "metadata": {},
   "outputs": [
    {
     "data": {
      "text/plain": [
       "Dict{String, Float64} with 10 entries:\n",
       "  \"300\"  => 0.880268\n",
       "  \"400\"  => 0.851357\n",
       "  \"1000\" => 0.799334\n",
       "  \"600\"  => 0.81237\n",
       "  \"800\"  => 0.787536\n",
       "  \"700\"  => 0.800373\n",
       "  \"100\"  => 0.78816\n",
       "  \"200\"  => 0.89275\n",
       "  \"500\"  => 0.827358\n",
       "  \"900\"  => 0.768116"
      ]
     },
     "execution_count": 14,
     "metadata": {},
     "output_type": "execute_result"
    }
   ],
   "source": [
    "test_reward_score[:outcome]"
   ]
  },
  {
   "cell_type": "code",
   "execution_count": 15,
   "id": "dbc32801-48c1-48bc-ae7a-fcc2a39f4265",
   "metadata": {},
   "outputs": [
    {
     "data": {
      "text/plain": [
       "evaluate (generic function with 1 method)"
      ]
     },
     "execution_count": 15,
     "metadata": {},
     "output_type": "execute_result"
    }
   ],
   "source": [
    "function evaluate(recommendations, outcomes, actual_revenue)\n",
    "  n = length(recommendations)\n",
    "  pred_revenue = [outcomes[i, recommendations[i]] for i in 1:n]\n",
    "\n",
    "  improvement = mean(pred_revenue .- actual_revenue) / mean(actual_revenue)\n",
    "end"
   ]
  },
  {
   "cell_type": "code",
   "execution_count": 16,
   "id": "9b8f6fe3-86ba-43bb-a319-2a34b9d08910",
   "metadata": {},
   "outputs": [
    {
     "data": {
      "text/plain": [
       "evaluate2 (generic function with 1 method)"
      ]
     },
     "execution_count": 16,
     "metadata": {},
     "output_type": "execute_result"
    }
   ],
   "source": [
    "function evaluate2(recommendations, outcomes, actual_revenue)\n",
    "  n = length(recommendations)\n",
    "  pred_revenue = [outcomes[i, recommendations[i]] for i in 1:n]\n",
    "\n",
    "  tot_rev = sum(pred_revenue)\n",
    "end"
   ]
  },
  {
   "cell_type": "code",
   "execution_count": 17,
   "id": "aa62826d-0aec-46f9-a090-1a1045c8b86f",
   "metadata": {},
   "outputs": [],
   "source": [
    "test_revenue = test_y .* test_t_discrete;"
   ]
  },
  {
   "cell_type": "code",
   "execution_count": 18,
   "id": "e89dc18a-25e7-4c83-b289-f5fc2209cd3a",
   "metadata": {},
   "outputs": [
    {
     "data": {
      "text/plain": [
       "190555-element Vector{Symbol}:\n",
       " Symbol(\"900\")\n",
       " Symbol(\"900\")\n",
       " Symbol(\"800\")\n",
       " Symbol(\"600\")\n",
       " Symbol(\"900\")\n",
       " Symbol(\"900\")\n",
       " Symbol(\"600\")\n",
       " Symbol(\"800\")\n",
       " Symbol(\"1000\")\n",
       " Symbol(\"1000\")\n",
       " Symbol(\"900\")\n",
       " Symbol(\"800\")\n",
       " Symbol(\"900\")\n",
       " ⋮\n",
       " Symbol(\"800\")\n",
       " Symbol(\"1000\")\n",
       " Symbol(\"1000\")\n",
       " Symbol(\"800\")\n",
       " Symbol(\"1000\")\n",
       " Symbol(\"1000\")\n",
       " Symbol(\"1000\")\n",
       " Symbol(\"1000\")\n",
       " Symbol(\"600\")\n",
       " Symbol(\"1000\")\n",
       " Symbol(\"800\")\n",
       " Symbol(\"1000\")"
      ]
     },
     "execution_count": 18,
     "metadata": {},
     "output_type": "execute_result"
    }
   ],
   "source": [
    "recommendations_pres = Symbol.(Int.(IAI.predict(prescriptive_grid, test_X)[1]))"
   ]
  },
  {
   "cell_type": "code",
   "execution_count": 19,
   "id": "012a14a4-4c70-4214-819e-00216aa88c12",
   "metadata": {},
   "outputs": [
    {
     "data": {
      "text/plain": [
       "2.014074493458478"
      ]
     },
     "execution_count": 19,
     "metadata": {},
     "output_type": "execute_result"
    }
   ],
   "source": [
    "evaluate(recommendations_pres, test_rewards, test_revenue)"
   ]
  },
  {
   "cell_type": "code",
   "execution_count": 20,
   "id": "1217d007-943b-4301-8cc7-ad9122fa5896",
   "metadata": {},
   "outputs": [
    {
     "data": {
      "text/plain": [
       "2.7392210404000007e7"
      ]
     },
     "execution_count": 20,
     "metadata": {},
     "output_type": "execute_result"
    }
   ],
   "source": [
    "evaluate2(recommendations_pres, test_rewards, test_revenue)"
   ]
  }
 ],
 "metadata": {
  "kernelspec": {
   "display_name": "Julia 1.9.3",
   "language": "julia",
   "name": "julia-1.9"
  },
  "language_info": {
   "file_extension": ".jl",
   "mimetype": "application/julia",
   "name": "julia",
   "version": "1.9.3"
  }
 },
 "nbformat": 4,
 "nbformat_minor": 5
}
